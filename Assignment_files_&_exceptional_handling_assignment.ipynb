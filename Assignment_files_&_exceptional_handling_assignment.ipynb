{
  "nbformat": 4,
  "nbformat_minor": 0,
  "metadata": {
    "colab": {
      "provenance": []
    },
    "kernelspec": {
      "name": "python3",
      "display_name": "Python 3"
    },
    "language_info": {
      "name": "python"
    }
  },
  "cells": [
    {
      "cell_type": "markdown",
      "source": [
        " files & exceptional handling assignment"
      ],
      "metadata": {
        "id": "6N4ZPp25D6wi"
      }
    },
    {
      "cell_type": "markdown",
      "source": [
        "1. What is the difference between interpreted and compiled languages?\n",
        "   - The key difference between interpreted and compiled languages lies in how their code is translated into machine code (the binary code that computers can execute\n",
        "\n",
        "    Compiled Languages\n",
        "      . Definition: The code is translated into machine code before it runs, using a compiler.\n",
        "\n",
        "      . Process:\n",
        "\n",
        "          . Source code → compiled by a compiler → executable file.\n",
        "\n",
        "          . Executable file is then run by the computer.\n",
        "\n",
        "      . Examples: C, C++, Rust, Go.\n",
        "      \n",
        "      . Advantage:\n",
        "\n",
        "        . Faster execution (since it's pre-compiled).\n",
        "\n",
        "        . Code is harder to reverse-engineer.\n",
        "\n",
        "      . Disadvantage:\n",
        "\n",
        "        . Less flexible (must recompile after every change).\n",
        "\n",
        "          Platform-dependent (may need separate compilation for Windows, Linux, etc.).\n",
        "\n",
        "\n",
        "    \n",
        "    .  Interpreted Languages\n",
        "\n",
        "      .  Definition: The code is read and executed line by line by an interpreter at runtime.\n",
        "\n",
        "      . Process:\n",
        "\n",
        "        Source code → interpreted by interpreter → directly executed.\n",
        "\n",
        "      . Examples: Python, JavaScript, Ruby.\n",
        "\n",
        "      . Advantage:\n",
        "\n",
        "        . Easier to test and debug (runs line by line)\n",
        "\n",
        "        . More portable (same code can often run on different systems)\n",
        "\n",
        "      . Disadvantage\n",
        "\n",
        "        . Slower execution.\n",
        "\n",
        "        . Code is more exposed (since it's not compiled into a binary).\n",
        "\n",
        "\n",
        "2.  What is exception handling in Python?\n",
        "    - Exception Handling in Python\n",
        "      Exception handling in Python is a way to manage errors or unexpected situations that occur while a program is running, without crashing the entire program.\n",
        "\n",
        "     . An exception is an error that occurs during the execution of a program.\n",
        "      Example: dividing by zero, using a variable that doesn’t exist, opening a file that’s not found, etc.\n",
        "\n",
        "     . Common Keyword\n",
        "\n",
        "        . Try         Block to write code that might cause an exception.\n",
        "\n",
        "        . except      Block that handles the exception.\n",
        "\n",
        "        . else        Runs if no exception occurs. (optional)\n",
        "\n",
        "        . finally     Always runs, whether an exception occurs or not.\n",
        "                      (optional)\n",
        "\n",
        "\n",
        "3. What is the purpose of the finally block in exception handling?\n",
        "   -  Purpose of the finally Block in Exception Handling (Python)\n",
        "      The finally block is used to define cleanup actions that must be executed no matter what happens in the try or except blocks — whether an exception occurs or not.\n",
        "\n",
        "      Main Purpose:\n",
        "\n",
        "        . To ensure that certain code always runs, even if an error is raised.\n",
        "\n",
        "        . Typically used to release resources (like files, network connections, or database connections).\n",
        "\n",
        "4. What is logging in Python?\n",
        "   - Logging in Python is the process of tracking events that happen when a     \n",
        "     program runs. It is used for debugging, monitoring, and recording errors or important information.\n",
        "\n",
        "     Instead of using print() statements (which aren't flexible or scalable), Python's logging module provides a powerful way to write log messages to files, the console, or other destinations.\n",
        "\n",
        "    . To record errors, warnings, or other important events\n",
        "\n",
        "    . To help debug and maintain code.\n",
        "\n",
        "    . To monitor what your application is doing (especially useful in large or\n",
        "      deployed applications).\n",
        "\n",
        "     . Loging level\n",
        "       \n",
        "       . DEBUG        Detailed information for debugging.\n",
        "\n",
        "       . INFO         General information (e.g., process started).\n",
        "\n",
        "       . WARNING      Something unexpected, but not fatal.\n",
        "\n",
        "       . ERROR        A serious problem — an error has occurred.\n",
        "\n",
        "       . CRITICAL     A very serious error — program may cras\n",
        "\n",
        "5. What is the significance of the **del** method in Python?\n",
        "   - The __del__ method in Python is a special method (also called a destructor) that is called automatically when an object is about to be destroyed (i.e., when it is garbage collected).\n",
        "\n",
        "  The __del__ method is used to clean up resources — such as:\n",
        "\n",
        "      . Closing open files\n",
        "\n",
        "      . Releasing network connections\n",
        "\n",
        "      . Freeing up memory or other system resources\n",
        "\n",
        "\n",
        "    . When an object’s reference count drops to zero (i.e., it's no longer used).\n",
        "\n",
        "    . Or when the program ends and Python's garbage collector clears objects.\n",
        "\n",
        "\n",
        "6. What is the difference between import and from ... import in Python ?\n",
        "   - Both import and from ... import are used to bring modules and their    \n",
        "     contents (like functions or classes) into your Python code — but they work a bit differently.\n",
        "\n",
        "     1. import module\n",
        "        . Imports the entire module.\n",
        "\n",
        "        . You need to prefix everything from that module with the module name.\n",
        "\n",
        "\n",
        "    2. from module import item\n",
        "\n",
        "        . mports specific parts of a module directly (like a single function, class, or variable).\n",
        "\n",
        "        . You don’t need to use the module name as a prefix.\n",
        "\n",
        "   3. Comparison Table\n",
        "\n",
        "      . Feature\n",
        "\n",
        "        . Imports entire module\n",
        "\n",
        "        . Uses module prefix\n",
        "\n",
        "        . Naming conflict risk\n",
        "\n",
        "        . Flexibility\n",
        "\n",
        "7. How can you handle multiple exceptions in Python ?\n",
        "   - How to Handle Multiple Exceptions in Python\n",
        "     In Python, you can handle multiple exceptions using the except clause in three main ways, depending on how you want to manage each type of error.\n",
        "\n",
        "     1. Handle Different Exceptions Separately\n",
        "        Use multiple except blocks to catch and handle each exception type differently.\n",
        "\n",
        "    2. Handle Multiple Exceptions in One Block\n",
        "       You can group multiple exceptions in a single except clause using parentheses ().\n",
        "\n",
        "   3.  Catch All Exceptions (Not Recommended for All Cases)\n",
        "\n",
        "  \n",
        "8. What is the purpose of the with statement when handling files in Python ?\n",
        "   - The with statement is used in Python to simplify file handling and ensure\n",
        "     that resources are properly managed — especially opening and closing files.\n",
        "\n",
        "     Main Purpose:\n",
        "      The with statement automatically closes the file when you're done using it, even if an error occurs during file operations.\n",
        "\n",
        "\n",
        "9. What is the difference between multithreading and multiprocessing ?\n",
        "   - Both multithreading and multiprocessing are used to run tasks concurrently\n",
        "     (at the same time), but they differ in how they use system resources and manage execution.\n",
        "\n",
        "     1. Multithreading\n",
        "\n",
        "        . Runs multiple threads within a single process.\n",
        "\n",
        "        . Threads share the same memory space.\n",
        "\n",
        "        . Best for I/O-bound tasks (e.g., reading files, downloading from internet).\n",
        "\n",
        "      . Example Use Cases:\n",
        "\n",
        "        . Reading/writing files\n",
        "\n",
        "        . Handling multiple network requests\n",
        "\n",
        "        . GUI applications\n",
        "\n",
        "     2. Multiprocessing\n",
        "        . Runs multiple processes, each with its own memory space.\n",
        "\n",
        "        . Processes do not share memory.\n",
        "\n",
        "        . Best for CPU-bound tasks (e.g., heavy calculations, data processing).\n",
        "     . Example Use Cases:\n",
        "        . Image/video processing\n",
        "\n",
        "        . Data analysis\n",
        "\n",
        "        . Machine learning models\n",
        "\n",
        "10. What are the advantages of using logging in a program ?\n",
        "    - Advantages of Using Logging in a Program (Python)\n",
        "\n",
        "      Using the logging module in a Python program has several benefits over basic debugging methods like print().\n",
        "\n",
        "     1. Tracks Program Execution\n",
        "        . Helps monitor what the program is doing, especially during long runs or complex tasks.\n",
        "\n",
        "        . You can see the flow of execution and trace issues.\n",
        "\n",
        "    2. Captures Errors and Issues\n",
        "\n",
        "       . Records errors, warnings, and exceptions with detailed info (like timestamps and error types).\n",
        "\n",
        "       . Useful for debugging and fixing bugs.\n",
        "\n",
        "\n",
        "    3. Provides Different Levels of Importance\n",
        "\n",
        "        . DEBUG:  Detailed diagnostic information\n",
        "\n",
        "        . INFO:  General events (program started, task completed)\n",
        "\n",
        "        . WARNING: Something unexpected, but not crashing\n",
        "\n",
        "        . ERROR:   A serious problem occurred\n",
        "\n",
        "        . CRITICAL: A major failure (e.g., app crash)\n",
        "\n",
        "    4. Useful in Production Environments\n",
        "\n",
        "        . Unlike print(), logging is professional and scalable.\n",
        "\n",
        "        . Essential for deployed apps and large systems, especially web   \n",
        "          applications and APIs.\n",
        "\n",
        "    5. Customizable and Configurable\n",
        "\n",
        "        . Format of messages\n",
        "\n",
        "        . Where to log (console, file, network)\n",
        "\n",
        "        . Log level threshold\n",
        "\n",
        "        . Log rotation (limit file size)\n",
        "\n",
        "    7. Non-Intrusive\n",
        "\n",
        "        . Logging doesn't interfere with the program logic, unlike print()\n",
        "          statements.\n",
        "\n",
        "        . You can disable or filter logs without changing your actual code.\n",
        "\n",
        "\n",
        "11. What is memory management in Python ?\n",
        "    - Memory management in Python is the process of allocating and deallocating\n",
        "      memory for objects and data structures in the program. Python handles memory management automatically, but it involves various key concepts like allocation, garbage collection, and reference counting.\n",
        "\n",
        "      . Key Components\n",
        "\n",
        "        . 1. Memory Allocation\n",
        "\n",
        "            . When you create a variable or object, Python allocates memory for\n",
        "              it.\n",
        "\n",
        "            . The amount of memory allocated depends on the type of object     being created (integer, list, string, etc.)\n",
        "\n",
        "         2. Reference Counting\n",
        "\n",
        "              . Python uses a reference counting system to track how many\n",
        "                references (variables) point to an object in memory.\n",
        "\n",
        "              . Each object has an internal counter that is incremented when a\n",
        "                new reference is created and decremented when a reference is deleted or goes out of scope.\n",
        "\n",
        "         3. Garbage Collection\n",
        "\n",
        "              . Python uses garbage collection to automatically reclaim memory\n",
        "                that is no longer in use, mainly when an object’s reference count reaches zero.\n",
        "\n",
        "              . This is done by the gc (garbage collector) module, which\n",
        "                identifies and cleans up objects that are no longer reachable (i.e., no references point to them).\n",
        "\n",
        "         4. Automatic Deallocation\n",
        "\n",
        "              . When an object's reference count reaches zero, it is\n",
        "                automatically deallocated and its memory is freed. This prevents memory leaks, as unused objects are cleaned up.\n",
        "\n",
        "        5. Memory Pooling\n",
        "\n",
        "              . Python’s memory management uses memory pools to allocate memory more efficiently. For small objects (e.g., integers and strings), Python uses an internal pool to reduce the overhead of memory allocation.\n",
        "\n",
        "12. What are the basic steps involved in exception handling in Python ?\n",
        "    - Exception handling in Python involves managing runtime errors  \n",
        "      (exceptions) in a way that allows the program to continue running without crashing. Python provides a robust way to handle errors using the try, except, else, and finally blocks.\n",
        "\n",
        "       1. try Block\n",
        "\n",
        "          . The try block is where you place code that may raise an exception.\n",
        "\n",
        "          . If an exception occurs in this block, Python will stop execution at\n",
        "            the point of error and jump to the corresponding except block.\n",
        "\n",
        "       2. except Block\n",
        "\n",
        "          . The except block catches the exception raised in the try block.\n",
        "\n",
        "          . You can specify different exceptions to catch different types of\n",
        "            errors.\n",
        "\n",
        "      3. else Block (Optional)\n",
        "\n",
        "          . The else block is executed if no exception occurs in the try block.\n",
        "\n",
        "          . It is useful for code that should run only when the try block\n",
        "            succeeds.\n",
        "\n",
        "      4. finally Block (Optional)\n",
        "\n",
        "          . The finally block runs regardless of whether an exception occurred\n",
        "            or not.\n",
        "          \n",
        "          . It's typically used to clean up resources, like closing files or\n",
        "            releasing network connections, even if the code failed.\n",
        "\n",
        "    \n",
        "13. Why is memory management important in Python ?\n",
        "    - Memory management is critical in any programming language, including\n",
        "      Python, because it directly impacts the performance, efficiency, and stability of applications. Python’s memory management system is designed to be automatic, but understanding it helps you write more optimized and reliable code.\n",
        "\n",
        "      1. Preventing Memory Leaks\n",
        "\n",
        "          . Memory leaks occur when memory that is no longer needed is not released, causing the application to consume more and more memory over time.\n",
        "\n",
        "          . Python’s garbage collection and reference counting mechanisms help prevent this by automatically freeing memory when it is no longer in use.\n",
        "\n",
        "     2. Efficient Resource Utilization\n",
        "\n",
        "          . Efficient memory use ensures that your program uses the least amount of system resources possible, which is especially important for long-running applications or systems with limited memory\n",
        "\n",
        "          . roper memory management can optimize performance by allowing your program to handle more data without slowing down or running out of memory.\n",
        "\n",
        "     3. Enhancing Performance\n",
        "\n",
        "          . Python’s memory management system, including memory pools for small objects, helps speed up memory allocation and deallocation.\n",
        "\n",
        "          . For instance, Python keeps a cache of small integers and strings to minimize repeated allocations and improve execution speed.\n",
        "\n",
        "     4. Managing Large Datasets\n",
        "          . When working with large datasets (e.g., in machine learning or data\n",
        "            analysis), inefficient memory handling can lead to crashes or very slow performance.\n",
        "\n",
        "          . Python provides tools like gc (garbage collection) and weak\n",
        "            references to help manage memory in large applications or systems that require real-time processing.\n",
        "\n",
        "    5. Avoiding Unintended Memory Consumption\n",
        "\n",
        "          . Objects in Python are stored in dynamic memory, and it's easy to\n",
        "            accidentally hold onto large objects or create memory-hungry structures.\n",
        "\n",
        "          . ircular references (where objects reference each other in a cycle)\n",
        "            can prevent the garbage collector from freeing memory.\n",
        "\n",
        "          . Understanding Python’s memory management helps avoid unintended\n",
        "            memory consumption that could lead to inefficiencies or application crashes.\n",
        "\n",
        "    6. Debugging and Profiling\n",
        "\n",
        "          . In complex applications, memory leaks or inefficient memory usage may be hard to diagnose without profiling.\n",
        "\n",
        "          . Using memory management tools like sys.getsizeof(), gc module, and\n",
        "            external profilers (e.g., memory_profiler) can help you pinpoint memory bottlenecks and optimize your code.\n",
        "\n",
        "    7. Predictable and Safe Memory Use\n",
        "\n",
        "          . By understanding reference counting and garbage collection, you\n",
        "            ensure that your program handles memory in a predictable way.\n",
        "\n",
        "          . It helps avoid scenarios where memory is unintentionally allocated\n",
        "            and not freed, ensuring that resources are reliable and can be used by other parts of the program.\n",
        "\n",
        "14. What is the role of try and except in exception handling ?\n",
        "    - In Python, the try and except blocks are essential components of  \n",
        "      exception handling. They allow you to manage runtime errors (exceptions) without crashing the program. Here's how they work\n",
        "\n",
        "      1. try Block:\n",
        "\n",
        "            . The try block is used to enclose code that might raise an\n",
        "              exception.\n",
        "\n",
        "            . When Python encounters an error in the try block, it immediately\n",
        "             jumps to the except block, bypassing any remaining code in the try block.\n",
        "\n",
        "          . Purpose:\n",
        "\n",
        "             . The try block is where you attempt to run potentially risky code that could raise an exception (e.g., division by zero, file operations).\n",
        "\n",
        "      2. except Block:\n",
        "\n",
        "            . The except block catches and handles exceptions raised in the try\n",
        "              block.\n",
        "\n",
        "            . You can specify specific exception types (e.g.,  \n",
        "              ZeroDivisionError, FileNotFoundError) to handle different errors in different ways.\n",
        "\n",
        "          Purpose:\n",
        "\n",
        "              . The except block allows you to handle errors without stopping\n",
        "                the program entirely. You can provide a custom error message, log the error, or even attempt recovery.\n",
        "\n",
        "\n",
        "15. How does Python's garbage collection system work ?\n",
        "    - Python's garbage collection system automatically manages memory by\n",
        "      reclaiming unused memory. It ensures that objects that are no longer referenced are deleted, freeing up memory for the program to use. Python uses two primary mechanisms to handle garbage collection: reference counting and cyclic garbage collection.\n",
        "\n",
        "      1. Reference Counting\n",
        "\n",
        "          . Reference counting is the primary mechanism used by Python for memory management.\n",
        "\n",
        "          . Each object in Python has an internal reference count that keeps track of how many references point to it.\n",
        "\n",
        "          . When an object's reference count drops to zero, meaning no variable or other object is referring to it, Python automatically deletes it and frees the memory.\n",
        "\n",
        "      2.  Cyclic Garbage Collection\n",
        "\n",
        "          . Reference counting handles most cases, but it cannot detect and\n",
        "            clean up circular references (where two or more objects reference each other, but are no longer reachable from any program variable).\n",
        "\n",
        "          . To solve this, Python uses a cyclic garbage collector (introduced in Python 2.0) that is capable of cleaning up cycles of references.\n",
        "\n",
        "     3. Python's gc Module (Manual Control)\n",
        "\n",
        "          . Python provides a gc module for manual control and inspection of  \n",
        "            the garbage collector.\n",
        "\n",
        "          . You can use this module to force garbage collection, inspect  \n",
        "            objects being tracked, and set thresholds for collection.\n",
        "\n",
        "         . Common gc Functions:\n",
        "\n",
        "            . gc.collect():\n",
        "\n",
        "            . gc.get_count(): Returns the current collection counts for\n",
        "              generation 0, 1, and 2.\n",
        "\n",
        "            . gc.set_debug(): Enables various debugging flags to monitor  \n",
        "              garbage collection.\n",
        "\n",
        "     4. Automatic vs Manual Garbage Collection\n",
        "\n",
        "        . Automatic garbage collection: Python’s garbage collection typically runs automatically in the background.\n",
        "\n",
        "        . Manual intervention: You can use the gc module to explicitly control garbage collection if necessary, such as in performance-critical applications.\n",
        "\n",
        "16. What is the purpose of the else block in exception handling ?\n",
        "    - The else block in Python's exception handling is a part of the try-except\n",
        "      structure and is executed only if no exception occurs in the try block. Its primary purpose is to allow you to run code that should only execute if the code in the try block was successful (i.e., no exceptions were raised).\n",
        "\n",
        "     1. When is the else Block Executed?\n",
        "\n",
        "           . The else block runs only if no exceptions were raised in the try block.\n",
        "\n",
        "           . If an exception is raised in the try block, Python skips the else block and moves directly to the except block (if present).\n",
        "\n",
        "           . It provides a clean and organized way to separate normal execution code from error-handling code.\n",
        "\n",
        "  2. Purpose of Using the else Block\n",
        "\n",
        "          . Separation of Concerns: The else block is helpful for clearly distinguishing between code that handles exceptions and code that should run only when the try block is successful.\n",
        "\n",
        "        . Improves Code Readability: It makes your code more readable by separating the logic for normal execution from error handling.\n",
        "\n",
        "        . Avoids Nesting: Without the else block, you might end up nesting code inside the try block, which can lead to more complex and less readable code.\n",
        "\n",
        "17. What are the common logging levels in Python ?\n",
        "    - Python's built-in logging module provides a flexible framework for\n",
        "      emitting log messages from Python programs. Each log message has a severity level, which indicates the importance or criticality of the event.\n",
        "\n",
        "      Common Logging Levels\n",
        "                                          \n",
        "       DEBUG:-   Detailed information, useful for diagnosing problems. Often\n",
        "                  used during development and numeric value is 10 .\n",
        "\n",
        "      INFO:-    Confirms that things are working as expected. Useful for\n",
        "                 general events and numeric value is 20 .\n",
        "\n",
        "      WARNING:-   Indicates something unexpected happened, but the program is\n",
        "                  still running normally numeric value is 30.\n",
        "     \n",
        "     ERROR:-     A more serious problem; the program couldn't perform a\n",
        "                 function numeric value is 40.\n",
        "\n",
        "     CRITICAL:-  A severe error that may prevent the program from continuing to\n",
        "                 run numeric value is 50.\n",
        "\n",
        "                \n",
        "18. What is the difference between os.fork() and multiprocessing in Python ?\n",
        "    - Both os.fork() and the multiprocessing module in Python are used to  \n",
        "      create new processes, but they differ significantly in terms of usage, portability, and control.\n",
        "\n",
        "      1. os.fork() :- os.fork() is a low-level system call available on Unix/\n",
        "                      Linux systems only. It creates a new child process by duplicating the current process.\n",
        "\n",
        "                     . How it work:- After calling os.fork(), two processes run\n",
        "                                    the same code:\n",
        "\n",
        "                    . The parent gets the child's PID as the return value.\n",
        "\n",
        "                    . The child gets 0 as the return value.\n",
        "\n",
        "                    . Use os.fork() if:-\n",
        "                                \n",
        "                                  .  low-level control and are working on Unix/Linux.\n",
        "\n",
        "                                  .  comfortable managing processes manually.\n",
        "\n",
        "     2. multiprocessing Module:- he multiprocessing module is a high-level\n",
        "                                 Python module used to create and manage separate processes. It works on both Unix and Windows.\n",
        "\n",
        "                                . How it work:- define a function and run it in\n",
        "                                                a separate process using Process.\n",
        "\n",
        "                                . Use multiprocessing if:-\n",
        "\n",
        "                                                        . cross-platform\n",
        "                                                          compatibility.\n",
        "\n",
        "                                                        . high-level control  \n",
        "                                                          and cleaner syntax.\n",
        "\n",
        "                                                       . inter-process\n",
        "                                                         communication (IPC).\n",
        "\n",
        "\n",
        "19. What is the importance of closing a file in Python ?\n",
        "    - Closing a file in Python is essential for proper resource management.  \n",
        "      When you open a file using open(), Python creates a file object and allocates system resources (like file descriptors or memory buffers) to work with the file. Closing the file ensures that those resources are released and that the file is properly updated and saved (especially for write operations).\n",
        "\n",
        "      1.  Releases System Resources\n",
        "\n",
        "         . Every open file uses a file descriptor, which is a limited resource.\n",
        "\n",
        "        . If too many files remain open without being closed, your program or operating system may run out of resources and crash or throw errors.\n",
        "\n",
        "    2. Flushes Write Buffers\n",
        "        . When writing to a file, Python may buffer the data in memory.\n",
        "\n",
        "        . If the file isn't closed, some of that data may never be written to disk, resulting in incomplete or corrupted files.\n",
        "\n",
        "    3. Prevents Data Loss or Corruption\n",
        "\n",
        "        . If a file is being written and the program crashes before it is\n",
        "          closed, the data may not be properly saved or the file may become corrupted.\n",
        "\n",
        "    4. File Locking and Access\n",
        "          . Some files may be locked while open, especially on Windows.\n",
        "\n",
        "          . If a file isn't closed, other programs may be unable to access or modify it.  \n",
        "\n",
        "    5. Good Practice and Readability\n",
        "          . Explicitly closing files makes your code cleaner, easier to understand, and less prone to bugs.    \n",
        "\n",
        "20.  What is the difference between file.read() and file.readline() in Python?\n",
        "     - Both file.read() and file.readline() are used to read content from a\n",
        "       file, but they behave very differently.\n",
        "\n",
        "        1. file.read()\n",
        "            . Reads the entire file (or a specified number of characters) into a single string.\n",
        "\n",
        "            . Loads everything at once, including line breaks (\\n), into memory.\n",
        "\n",
        "        2.  file.readline()\n",
        "             . Reads only one line at a time from the file.\n",
        "\n",
        "             . Useful when working with large files or when you only need to process one line at a time.\n",
        "\n",
        "21. What is the logging module in Python used for?\n",
        "    - The logging module in Python is a standard library module used to record  messages that describe events occurring while a program runs. It is mainly used for:\n",
        "\n",
        "        . Debugging\n",
        "\n",
        "        . Monitoring\n",
        "\n",
        "        . Tracking errors and warnings\n",
        "\n",
        "        . Audit trails\n",
        "\n",
        "        . Replacing print() statements in production code\n",
        "\n",
        "     Uses of the logging Module:\n",
        "\n",
        "        . Track Events\n",
        "Record what happens during execution (e.g., starting/stopping services, errors, or system events).\n",
        "\n",
        "       . Debugging\n",
        "            Helps developers trace and fix issues without using print statements.\n",
        "\n",
        "      . Error Logging\n",
        "            Automatically logs errors or exceptions into files for later analysis.\n",
        "\n",
        "      . Monitoring Programs\n",
        "           Useful in real-time applications, servers, or scripts to monitor what's going on.\n",
        "\n",
        "      . Auditing\n",
        "          Keeps a record of user actions, system behavior, or critical operations.\n",
        "\n",
        "22. What is the os module in Python used for in file handling?\n",
        "    - The os module in Python provides a way to interact with the operating\n",
        "      system, and it's especially useful for file and directory handling\n",
        "\n",
        "       like creating, deleting, navigating, and checking properties of files and folders.\n",
        "\n",
        "        Common Uses of os in File Handling\n",
        "\n",
        "          1.  Working with Directories\n",
        "\n",
        "                . os.getcwd():-\tGet the current working directory\n",
        "\n",
        "                . os.chdir(path):-\tChange the current working directory\n",
        "\n",
        "                . os.listdir(path):-\tList files and folders in a directory\n",
        "\n",
        "                . os.mkdir(path):-\tCreate a new directory\n",
        "\n",
        "                . os.makedirs(path):- \tCreate directories recursively\n",
        "\n",
        "                . os.rmdir(path):- \tRemove an empty directory\n",
        "\n",
        "                . os.removedirs(path):- \tRemove directories recursively\n",
        "\n",
        "         2. Working with Files\n",
        "\n",
        "                . os.remove(filename):- \tDelete a file\n",
        "\n",
        "                . os.rename(src, dst):-\tRename or move a file\n",
        "                \n",
        "                . os.path.exists(path):-\tCheck if a path exists\n",
        "\n",
        "                . os.path.isfile(path):-\tCheck if a path is a file\n",
        "\n",
        "                . os.path.isdir(path):- \tCheck if a path is a directory\n",
        "\n",
        "                . os.path.getsize(path):- \tGet the size of a file (in bytes)\n",
        "\n",
        "23. What are the challenges associated with memory management in Python?\n",
        "    - Python handles memory management automatically using a built-in garbage\n",
        "      collector and reference counting, but it’s not always perfect. Developers may still face several challenges related to memory usage, especially in large or long-running programs.\n",
        "\n",
        "      1. Memory Leaks\n",
        "          . What happens: Objects that are no longer needed are not freed from memory.\n",
        "\n",
        "         . Cause: Usually due to circular references or global/static references keeping objects alive.\n",
        "\n",
        "         . Impact: Memory usage grows over time, which can slow down or crash your program.\n",
        "\n",
        "     2. Circular References\n",
        "\n",
        "        . Python uses reference counting to manage memory.\n",
        "\n",
        "        . But if two objects refer to each other (circular reference),  \n",
        "          neither's count goes to zero.\n",
        "\n",
        "        . Python’s garbage collector can detect some of these cycles, but it's\n",
        "          not perfect.\n",
        "\n",
        "    3.  High Memory Usage with Large Data\n",
        "\n",
        "        . Using large data structures (like lists, dictionaries, or Pandas DataFrames) can consume a lot of memory.\n",
        "\n",
        "        . Developers may not realize how much memory is being used, especially when copying data.\n",
        "\n",
        "    4. Object Retention and Caching\n",
        "\n",
        "        . Python sometimes keeps objects alive longer than expected (e.g., in caches or internal optimizations).\n",
        "\n",
        "        . Unused objects stay in memory, causing inefficiency.\n",
        "\n",
        "    5.  Third-Party Libraries\n",
        "\n",
        "        . Some external libraries (especially those using C extensions) may not manage memory well, leading to hidden leaks.\n",
        "\n",
        "        . Debugging these issues is difficult.\n",
        "\n",
        "    6.  Difficulty in Diagnosing Issues\n",
        "\n",
        "          . Python doesn’t always provide clear visibility into memory usage.\n",
        "\n",
        "          . Tools like gc, tracemalloc, or external profilers are needed, which\n",
        "            add complexity.\n",
        "\n",
        "     . Some Tools to manage memory in python\n",
        "\n",
        "          . gc - built-in garbage collection control\n",
        "\n",
        "          . tracemalloc - track memory allocation\n",
        "\n",
        "          . objgraph - visualize object references\n",
        "\n",
        "          . memory_profiler - measure memory usage line by line\n",
        "\n",
        "24.  How do you raise an exception manually in Python?\n",
        "     - In Python, you can manually raise an exception using the raise  \n",
        "       statement. This is useful when you want to intentionally stop the program or signal an error condition that should be handled elsewhere.\n",
        "\n",
        "       . Some features\n",
        "\n",
        "         . raise keyword:-\tUsed to manually trigger exceptions\n",
        "\n",
        "         . Custom message:- \tHelps explain the error\n",
        "\n",
        "         . Works in try blocks:- \tCan be used to control flow\n",
        "\n",
        "25. Why is it important to use multithreading in certain applications?\n",
        "    - Multithreading is important in some applications because it allows a\n",
        "      program to run multiple tasks at the same time within the same process. This can significantly improve performance, responsiveness, and resource utilization, especially in I/O-bound tasks.\n",
        "\n",
        "      . Reasons to Use Multithreading\n",
        "\n",
        "        1. Improved Responsiveness\n",
        "\n",
        "            . in GUI or real-time applications, multithreading allows the interface to remain responsive while background tasks (like downloading, file loading) continue.\n",
        "\n",
        "            . Without it, the UI would freeze during long operations.\n",
        "\n",
        "       2. Concurrent Execution of Tasks\n",
        "\n",
        "          . One thread downloading a file\n",
        "\n",
        "          . Another thread processing user input\n",
        "\n",
        "          . A third thread updating the display\n",
        "\n",
        "     3. Better Use of Idle Time (Especially in I/O-Bound Programs)\n",
        "\n",
        "          . In I/O-bound programs (e.g., reading files, waiting for API\n",
        "            responses), CPU often waits for slow input/output.\n",
        "\n",
        "          . Multithreading allows other threads to run during wait times,\n",
        "            improving efficiency.\n",
        "\n",
        "    4. Simpler Code for Certain Problems\n",
        "\n",
        "          . For problems like a web server handling multiple client  \n",
        "            connections, multithreading makes the code cleaner than using state machines or asynchronous callbacks.\n",
        "\n",
        "   . Use Cases for Multithreading\n",
        "\n",
        "          . GUI apps (e.g., Tkinter):- \tKeeps UI responsive during background\n",
        "                                        work\n",
        "\n",
        "          . Web servers:- \tHandles multiple client requests at once\n",
        "\n",
        "          . File I/O:- \tReads/writes files in the background\n",
        "\n",
        "          . Networking apps:- \tManages many connections simultaneously\n",
        "\n",
        "          . Games:- \tSeparates game logic from rendering/input\n",
        "\n",
        "\n",
        "\n",
        "  \n",
        "\n",
        "\n",
        "\n",
        "\n",
        "                               \n",
        "\n",
        "\n",
        "\n",
        "\n",
        "\n",
        "\n",
        "\n",
        "\n",
        "        \n",
        "\n",
        "\n",
        "    \n",
        "\n"
      ],
      "metadata": {
        "id": "ycd3bc-fEHfq"
      }
    },
    {
      "cell_type": "markdown",
      "source": [
        "1. How can you open a file for writing in Python and write a string to it?"
      ],
      "metadata": {
        "id": "yHil1HM798RP"
      }
    },
    {
      "cell_type": "code",
      "source": [
        "with open(\"filename.txt\", \"w\") as file:\n",
        "    file.write(\"This is a string written to the file.\")\n"
      ],
      "metadata": {
        "id": "nqOThcwj96G3"
      },
      "execution_count": 1,
      "outputs": []
    },
    {
      "cell_type": "code",
      "source": [
        "text = \"Hello, Python file handling!\"\n",
        "\n",
        "with open(\"output.txt\", \"w\") as f:\n",
        "    f.write(text)\n",
        ""
      ],
      "metadata": {
        "id": "hdsMgPoJ_OH3"
      },
      "execution_count": 4,
      "outputs": []
    },
    {
      "cell_type": "markdown",
      "source": [
        "2. Write a Python program to read the contents of a file and print each line."
      ],
      "metadata": {
        "id": "-bTPl-qf_kzj"
      }
    },
    {
      "cell_type": "code",
      "source": [
        "# Open the file in read mode\n",
        "with open(\"filename.txt\", \"r\") as file:\n",
        "    # Loop through each line in the file\n",
        "    for line in file:\n",
        "        # Print the line (line already includes newline character)\n",
        "        print(line, end=\"\")  # end=\"\" avoids adding extra newline\n"
      ],
      "metadata": {
        "colab": {
          "base_uri": "https://localhost:8080/"
        },
        "id": "6A_479s8_3id",
        "outputId": "b57a241a-ff40-447d-fb87-34a6b9303d6a"
      },
      "execution_count": 5,
      "outputs": [
        {
          "output_type": "stream",
          "name": "stdout",
          "text": [
            "This is a string written to the file."
          ]
        }
      ]
    },
    {
      "cell_type": "markdown",
      "source": [
        "3.  How would you handle a case where the file doesn't exist while trying to open it for reading?"
      ],
      "metadata": {
        "id": "DA27OKbOAKY1"
      }
    },
    {
      "cell_type": "code",
      "source": [
        "try:\n",
        "    with open(\"filename.txt\", \"r\") as file:\n",
        "        for line in file:\n",
        "            print(line, end=\"\")\n",
        "except FileNotFoundError:\n",
        "    print(\"Error: The file was not found.\")\n"
      ],
      "metadata": {
        "colab": {
          "base_uri": "https://localhost:8080/"
        },
        "id": "bbS7Hxtj_f1N",
        "outputId": "bd60a9da-7e43-46f8-9127-6a1eb0686a4c"
      },
      "execution_count": 6,
      "outputs": [
        {
          "output_type": "stream",
          "name": "stdout",
          "text": [
            "This is a string written to the file."
          ]
        }
      ]
    },
    {
      "cell_type": "markdown",
      "source": [
        "4. Write a Python script that reads from one file and writes its content to another file."
      ],
      "metadata": {
        "id": "66POHnq9AZ7U"
      }
    },
    {
      "cell_type": "code",
      "source": [
        "# Define file paths\n",
        "source_file = \"input.txt\"\n",
        "destination_file = \"output.txt\"\n",
        "\n",
        "try:\n",
        "    # Open the source file in read mode and the destination in write mode\n",
        "    with open(source_file, \"r\") as src, open(destination_file, \"w\") as dest:\n",
        "        # Read from source and write to destination\n",
        "        for line in src:\n",
        "            dest.write(line)\n",
        "\n",
        "    print(f\"Contents copied from '{source_file}' to '{destination_file}' successfully.\")\n",
        "\n",
        "except FileNotFoundError:\n",
        "    print(f\"Error: The file '{source_file}' does not exist.\")\n",
        "except Exception as e:\n",
        "    print(\"An unexpected error occurred:\", e)\n"
      ],
      "metadata": {
        "colab": {
          "base_uri": "https://localhost:8080/"
        },
        "id": "DyR8oWJWAoNs",
        "outputId": "49459417-0d5a-4461-f88b-013a3e6f2aa4"
      },
      "execution_count": 7,
      "outputs": [
        {
          "output_type": "stream",
          "name": "stdout",
          "text": [
            "Error: The file 'input.txt' does not exist.\n"
          ]
        }
      ]
    },
    {
      "cell_type": "markdown",
      "source": [
        "5.How would you catch and handle division by zero error in Python?"
      ],
      "metadata": {
        "id": "TD7BwfQBDJtA"
      }
    },
    {
      "cell_type": "code",
      "source": [
        "try:\n",
        "    a = 10\n",
        "    b = 0\n",
        "    result = a / b\n",
        "    print(\"Result:\", result)\n",
        "\n",
        "except ZeroDivisionError:\n",
        "    print(\"Error: Division by zero is not allowed.\")\n"
      ],
      "metadata": {
        "colab": {
          "base_uri": "https://localhost:8080/"
        },
        "id": "8rJ_H5EnPVHn",
        "outputId": "1423a398-2e92-4c7d-b5af-73abe009d216"
      },
      "execution_count": 8,
      "outputs": [
        {
          "output_type": "stream",
          "name": "stdout",
          "text": [
            "Error: Division by zero is not allowed.\n"
          ]
        }
      ]
    },
    {
      "cell_type": "markdown",
      "source": [
        "6. Write a Python program that logs an error message to a log file when a division by zero exception occurs?"
      ],
      "metadata": {
        "id": "pYZsUPjPPaKw"
      }
    },
    {
      "cell_type": "code",
      "source": [
        "import logging\n",
        "\n",
        "# Configure logging to write to a file\n",
        "logging.basicConfig(\n",
        "    filename=\"error.log\",           # Log file name\n",
        "    level=logging.ERROR,            # Log level\n",
        "    format=\"%(asctime)s - %(levelname)s - %(message)s\"\n",
        ")\n",
        "\n",
        "try:\n",
        "    # Division that may cause error\n",
        "    a = 10\n",
        "    b = 0\n",
        "    result = a / b\n",
        "\n",
        "except ZeroDivisionError as e:\n",
        "    print(\"Error: Division by zero.\")\n",
        "    logging.error(\"Attempted to divide by zero: %s\", e)\n"
      ],
      "metadata": {
        "colab": {
          "base_uri": "https://localhost:8080/"
        },
        "id": "5YpOpH2mPdtv",
        "outputId": "85050b5d-334a-4b4a-9a54-65cb08c2260f"
      },
      "execution_count": 9,
      "outputs": [
        {
          "output_type": "stream",
          "name": "stderr",
          "text": [
            "ERROR:root:Attempted to divide by zero: division by zero\n"
          ]
        },
        {
          "output_type": "stream",
          "name": "stdout",
          "text": [
            "Error: Division by zero.\n"
          ]
        }
      ]
    },
    {
      "cell_type": "markdown",
      "source": [
        "7. How do you log information at different levels (INFO, ERROR, WARNING) in Python using the logging module?"
      ],
      "metadata": {
        "id": "480MdVX4Puup"
      }
    },
    {
      "cell_type": "code",
      "source": [
        "import logging\n",
        "\n",
        "# Configure logging\n",
        "logging.basicConfig(\n",
        "    filename='app.log',             # Log file name\n",
        "    level=logging.DEBUG,            # Minimum level to capture\n",
        "    format='%(asctime)s - %(levelname)s - %(message)s'\n",
        ")\n",
        "\n",
        "# Log messages at different levels\n",
        "logging.debug(\"This is a DEBUG message (useful for developers).\")\n",
        "logging.info(\"This is an INFO message (general information).\")\n",
        "logging.warning(\"This is a WARNING message (something unexpected happened).\")\n",
        "logging.error(\"This is an ERROR message (something failed).\")\n",
        "logging.critical(\"This is a CRITICAL message (very serious error).\")\n"
      ],
      "metadata": {
        "colab": {
          "base_uri": "https://localhost:8080/"
        },
        "id": "AdX-IcivRpv0",
        "outputId": "2759ae9f-29a0-4a9d-a692-37846b26233c"
      },
      "execution_count": 10,
      "outputs": [
        {
          "output_type": "stream",
          "name": "stderr",
          "text": [
            "WARNING:root:This is a WARNING message (something unexpected happened).\n",
            "ERROR:root:This is an ERROR message (something failed).\n",
            "CRITICAL:root:This is a CRITICAL message (very serious error).\n"
          ]
        }
      ]
    },
    {
      "cell_type": "markdown",
      "source": [
        "8. Write a program to handle a file opening error using exception handling?"
      ],
      "metadata": {
        "id": "hMm1TIaFRuxe"
      }
    },
    {
      "cell_type": "code",
      "source": [
        "filename = \"nonexistent_file.txt\"\n",
        "\n",
        "try:\n",
        "    with open(filename, \"r\") as file:\n",
        "        content = file.read()\n",
        "        print(\"File content:\")\n",
        "        print(content)\n",
        "\n",
        "except FileNotFoundError:\n",
        "    print(f\"Error: The file '{filename}' was not found.\")\n",
        "\n",
        "except PermissionError:\n",
        "    print(f\"Error: You don't have permission to read '{filename}'.\")\n",
        "\n",
        "except Exception as e:\n",
        "    print(f\"An unexpected error occurred: {e}\")\n"
      ],
      "metadata": {
        "colab": {
          "base_uri": "https://localhost:8080/"
        },
        "id": "M2nUh37BR8IO",
        "outputId": "109853a9-151c-4dfd-9cbd-326a1b871535"
      },
      "execution_count": 11,
      "outputs": [
        {
          "output_type": "stream",
          "name": "stdout",
          "text": [
            "Error: The file 'nonexistent_file.txt' was not found.\n"
          ]
        }
      ]
    },
    {
      "cell_type": "markdown",
      "source": [
        "9.  How can you read a file line by line and store its content in a list in Python?"
      ],
      "metadata": {
        "id": "Ch2idbQ2R9vP"
      }
    },
    {
      "cell_type": "code",
      "source": [
        "with open(\"filename.txt\", \"r\") as file:\n",
        "    lines = file.readlines()\n",
        "\n",
        "print(lines)\n",
        "\n"
      ],
      "metadata": {
        "colab": {
          "base_uri": "https://localhost:8080/"
        },
        "id": "c_FKh_B7RzGG",
        "outputId": "722ec8a4-9c0f-4245-b3b9-b48f7075b343"
      },
      "execution_count": 13,
      "outputs": [
        {
          "output_type": "stream",
          "name": "stdout",
          "text": [
            "['This is a string written to the file.']\n"
          ]
        }
      ]
    },
    {
      "cell_type": "code",
      "source": [
        "with open(\"filename.txt\", \"r\") as file:\n",
        "    lines = [line.strip() for line in file]\n",
        "\n",
        "print(lines)\n"
      ],
      "metadata": {
        "colab": {
          "base_uri": "https://localhost:8080/"
        },
        "id": "ssnCWND9SgGo",
        "outputId": "5b18725b-874b-404c-de42-3e9bdfc99b05"
      },
      "execution_count": 14,
      "outputs": [
        {
          "output_type": "stream",
          "name": "stdout",
          "text": [
            "['This is a string written to the file.']\n"
          ]
        }
      ]
    },
    {
      "cell_type": "markdown",
      "source": [
        "10. How can you append data to an existing file in Python?"
      ],
      "metadata": {
        "id": "oOP6AvkUSuy_"
      }
    },
    {
      "cell_type": "code",
      "source": [
        "# Open the file in append mode\n",
        "with open(\"example.txt\", \"a\") as file:\n",
        "    file.write(\"This is a new line of text.\\n\")\n",
        "\n"
      ],
      "metadata": {
        "id": "mPVmNMdRSiUf"
      },
      "execution_count": 18,
      "outputs": []
    },
    {
      "cell_type": "markdown",
      "source": [
        "11. Write a Python program that uses a try-except block to handle an error when attempting to access a\n",
        "dictionary key that doesn't exist."
      ],
      "metadata": {
        "id": "W-ojgc_wTabc"
      }
    },
    {
      "cell_type": "code",
      "source": [
        "# Sample dictionary\n",
        "person = {\n",
        "    \"name\": \"John\",\n",
        "    \"age\": 30\n",
        "}\n",
        "\n",
        "try:\n",
        "    # Attempt to access a non-existent key\n",
        "    print(\"Address:\", person[\"address\"])\n",
        "\n",
        "except KeyError:\n",
        "    print(\"Error: 'address' key not found in the dictionary.\")\n",
        "\n",
        "\n",
        "\n"
      ],
      "metadata": {
        "colab": {
          "base_uri": "https://localhost:8080/"
        },
        "id": "0ZIH_laPSkS-",
        "outputId": "754fb130-053d-4b91-c778-0d0748208de0"
      },
      "execution_count": 21,
      "outputs": [
        {
          "output_type": "stream",
          "name": "stdout",
          "text": [
            "Error: 'address' key not found in the dictionary.\n"
          ]
        }
      ]
    },
    {
      "cell_type": "code",
      "source": [
        "address = person.get(\"address\", \"Not provided\")\n",
        "print(\"Address:\", address)\n"
      ],
      "metadata": {
        "colab": {
          "base_uri": "https://localhost:8080/"
        },
        "id": "f9CMnytmTqv8",
        "outputId": "8b5ce2a2-d8e7-41a5-da9f-543402b9919c"
      },
      "execution_count": 22,
      "outputs": [
        {
          "output_type": "stream",
          "name": "stdout",
          "text": [
            "Address: Not provided\n"
          ]
        }
      ]
    },
    {
      "cell_type": "markdown",
      "source": [
        "12. Write a program that demonstrates using multiple except blocks to handle different types of exceptions."
      ],
      "metadata": {
        "id": "42K_yikZTwBd"
      }
    },
    {
      "cell_type": "code",
      "source": [
        "try:\n",
        "    # Input from user\n",
        "    num1 = int(input(\"Enter a number: \"))\n",
        "    num2 = int(input(\"Enter another number: \"))\n",
        "\n",
        "    # Perform division\n",
        "    result = num1 / num2\n",
        "    print(\"Result:\", result)\n",
        "\n",
        "except ZeroDivisionError:\n",
        "    print(\"Error: Cannot divide by zero.\")\n",
        "\n",
        "except ValueError:\n",
        "    print(\"Error: Invalid input. Please enter numeric values.\")\n",
        "\n",
        "except Exception as e:\n",
        "    print(\"An unexpected error occurred:\", e)\n"
      ],
      "metadata": {
        "colab": {
          "base_uri": "https://localhost:8080/"
        },
        "id": "z_wCvqHeUb8r",
        "outputId": "8317986d-1639-4798-8729-2d2a88ccab3c"
      },
      "execution_count": 23,
      "outputs": [
        {
          "output_type": "stream",
          "name": "stdout",
          "text": [
            "Enter a number: 10\n",
            "Enter another number: 0\n",
            "Error: Cannot divide by zero.\n"
          ]
        }
      ]
    },
    {
      "cell_type": "markdown",
      "source": [
        "13. How would you check if a file exists before attempting to read it in Python?"
      ],
      "metadata": {
        "id": "rtO9z6UhD5J0"
      }
    },
    {
      "cell_type": "code",
      "source": [
        "import os\n",
        "\n",
        "file_path = \"example.txt\"\n",
        "\n",
        "if os.path.exists(file_path):\n",
        "    with open(file_path, \"r\") as file:\n",
        "        content = file.read()\n",
        "        print(\"File content:\\n\", content)\n",
        "else:\n",
        "    print(f\"Error: The file '{file_path}' does not exist.\")\n"
      ],
      "metadata": {
        "colab": {
          "base_uri": "https://localhost:8080/"
        },
        "id": "uDZ-DsjGUzZF",
        "outputId": "778ab40b-b694-4d18-ecff-bef750b34ee2"
      },
      "execution_count": 24,
      "outputs": [
        {
          "output_type": "stream",
          "name": "stdout",
          "text": [
            "File content:\n",
            " This is a new line of text.\n",
            "\n"
          ]
        }
      ]
    },
    {
      "cell_type": "code",
      "execution_count": 26,
      "metadata": {
        "colab": {
          "base_uri": "https://localhost:8080/"
        },
        "id": "6WmJNAgkCBOE",
        "outputId": "642e7084-d9e1-40d6-9fb5-6fc64e5838ac"
      },
      "outputs": [
        {
          "output_type": "stream",
          "name": "stdout",
          "text": [
            "File content:\n",
            " This is a new line of text.\n",
            "\n"
          ]
        }
      ],
      "source": [
        "#pathlib.Path.exists()\n",
        "from pathlib import Path\n",
        "\n",
        "file = Path(\"example.txt\")\n",
        "\n",
        "if file.exists():\n",
        "    with file.open(\"r\") as f:\n",
        "        print(\"File content:\\n\", f.read())\n",
        "else:\n",
        "    print(f\"Error: The file '{file}' does not exist.\")\n"
      ]
    },
    {
      "cell_type": "markdown",
      "source": [
        "14. Write a program that uses the logging module to log both informational and error messages."
      ],
      "metadata": {
        "id": "heDVp9lRWHPL"
      }
    },
    {
      "cell_type": "code",
      "source": [
        "import logging\n",
        "\n",
        "# Configure the logging\n",
        "logging.basicConfig(\n",
        "    filename='app.log',                  # Log file name\n",
        "    level=logging.DEBUG,                 # Log everything from DEBUG and above\n",
        "    format='%(asctime)s - %(levelname)s - %(message)s'\n",
        ")\n",
        "\n",
        "# Log an informational message\n",
        "logging.info(\"Program started successfully.\")\n",
        "\n",
        "try:\n",
        "    num1 = int(input(\"Enter numerator: \"))\n",
        "    num2 = int(input(\"Enter denominator: \"))\n",
        "    result = num1 / num2\n",
        "    print(\"Result:\", result)\n",
        "    logging.info(\"Division performed successfully.\")\n",
        "\n",
        "except ZeroDivisionError as e:\n",
        "    print(\"Error: Cannot divide by zero.\")\n",
        "    logging.error(\"Division by zero error occurred: %s\", e)\n",
        "\n",
        "except ValueError as e:\n",
        "    print(\"Error: Please enter valid numeric values.\")\n",
        "    logging.error(\"ValueError: Invalid input provided: %s\", e)\n",
        "\n",
        "except Exception as e:\n",
        "    print(\"An unexpected error occurred.\")\n",
        "    logging.error(\"Unexpected error: %s\", e)\n"
      ],
      "metadata": {
        "colab": {
          "base_uri": "https://localhost:8080/"
        },
        "id": "wQBIZYxHV56h",
        "outputId": "fa7f67a4-b3ed-4875-c443-937e2a5a36c2"
      },
      "execution_count": 27,
      "outputs": [
        {
          "output_type": "stream",
          "name": "stdout",
          "text": [
            "Enter numerator: 100\n",
            "Enter denominator: 2\n",
            "Result: 50.0\n"
          ]
        }
      ]
    },
    {
      "cell_type": "markdown",
      "source": [
        "15. Write a Python program that prints the content of a file and handles the case when the file is empty."
      ],
      "metadata": {
        "id": "QD7gbTJYWgmy"
      }
    },
    {
      "cell_type": "code",
      "source": [
        "def read_file(filename):\n",
        "    try:\n",
        "        with open(filename, 'r') as file:\n",
        "            content = file.read()\n",
        "\n",
        "            if content.strip():  # Check if content is not just whitespace\n",
        "                print(\"File Content:\\n\")\n",
        "                print(content)\n",
        "            else:\n",
        "                print(f\"The file '{filename}' is empty.\")\n",
        "\n",
        "    except FileNotFoundError:\n",
        "        print(f\"Error: The file '{filename}' does not exist.\")\n",
        "    except Exception as e:\n",
        "        print(f\"An unexpected error occurred: {e}\")\n",
        "\n",
        "# Change the filename as needed\n",
        "read_file(\"example.txt\")\n"
      ],
      "metadata": {
        "colab": {
          "base_uri": "https://localhost:8080/"
        },
        "id": "TFp9-Q63WwMC",
        "outputId": "7fc5f027-aa55-43f8-9a82-2120b7da1dc2"
      },
      "execution_count": 28,
      "outputs": [
        {
          "output_type": "stream",
          "name": "stdout",
          "text": [
            "File Content:\n",
            "\n",
            "This is a new line of text.\n",
            "\n"
          ]
        }
      ]
    },
    {
      "cell_type": "markdown",
      "source": [
        "16. Demonstrate how to use memory profiling to check the memory usage of a small program."
      ],
      "metadata": {
        "id": "CbLJHYc5W0mh"
      }
    },
    {
      "cell_type": "code",
      "source": [
        "pip install memory_profiler\n"
      ],
      "metadata": {
        "colab": {
          "base_uri": "https://localhost:8080/"
        },
        "id": "5l4_qOnNXOig",
        "outputId": "c7e4be05-c6be-4af0-f171-ac2faec509e5"
      },
      "execution_count": 29,
      "outputs": [
        {
          "output_type": "stream",
          "name": "stdout",
          "text": [
            "Collecting memory_profiler\n",
            "  Downloading memory_profiler-0.61.0-py3-none-any.whl.metadata (20 kB)\n",
            "Requirement already satisfied: psutil in /usr/local/lib/python3.11/dist-packages (from memory_profiler) (5.9.5)\n",
            "Downloading memory_profiler-0.61.0-py3-none-any.whl (31 kB)\n",
            "Installing collected packages: memory_profiler\n",
            "Successfully installed memory_profiler-0.61.0\n"
          ]
        }
      ]
    },
    {
      "cell_type": "code",
      "source": [
        "from memory_profiler import profile\n",
        "\n",
        "@profile\n",
        "def create_list():\n",
        "    # Create a list of 1 million numbers\n",
        "    my_list = [i for i in range(10**6)]\n",
        "    print(\"List created with 1 million elements.\")\n",
        "\n",
        "if __name__ == \"__main__\":\n",
        "    create_list()\n",
        "\n",
        "\n",
        "\n",
        "\n",
        "\n",
        "\n"
      ],
      "metadata": {
        "colab": {
          "base_uri": "https://localhost:8080/"
        },
        "id": "yfkr7M1XXRZY",
        "outputId": "4b8a2610-8448-4407-850d-4637a0c9e513"
      },
      "execution_count": 35,
      "outputs": [
        {
          "output_type": "stream",
          "name": "stdout",
          "text": [
            "ERROR: Could not find file <ipython-input-35-2f50ae456ee1>\n",
            "NOTE: %mprun can only be used on functions defined in physical files, and not in the IPython environment.\n",
            "List created with 1 million elements.\n"
          ]
        }
      ]
    },
    {
      "cell_type": "code",
      "source": [
        "!python -m memory_profiler your_script.py"
      ],
      "metadata": {
        "colab": {
          "base_uri": "https://localhost:8080/"
        },
        "id": "YTi1GnNxXXwv",
        "outputId": "a499b076-f7d8-4a9d-da37-c2758681efed"
      },
      "execution_count": 37,
      "outputs": [
        {
          "output_type": "stream",
          "name": "stdout",
          "text": [
            "Could not find script your_script.py\n"
          ]
        }
      ]
    },
    {
      "cell_type": "markdown",
      "source": [
        "17. Write a Python program to create and write a list of numbers to a file, one number per line."
      ],
      "metadata": {
        "id": "k43NeqC-X4a_"
      }
    },
    {
      "cell_type": "code",
      "source": [
        "numbers = [10, 20, 30, 40, 50]\n",
        "\n",
        "with open(\"numbers.txt\", \"w\") as file:\n",
        "    for number in numbers:\n",
        "        file.write(str(number) + \"\\n\")\n"
      ],
      "metadata": {
        "id": "AU87a7ZWYAo4"
      },
      "execution_count": 38,
      "outputs": []
    },
    {
      "cell_type": "markdown",
      "source": [
        "18. How would you implement a basic logging setup that logs to a file with rotation after 1MB ?"
      ],
      "metadata": {
        "id": "d48yegrhYfB-"
      }
    },
    {
      "cell_type": "code",
      "source": [
        "import logging\n",
        "from logging.handlers import RotatingFileHandler\n",
        "\n",
        "# Create a logger\n",
        "logger = logging.getLogger(\"MyLogger\")\n",
        "logger.setLevel(logging.DEBUG)\n",
        "\n",
        "# Create a rotating file handler that rotates after 1MB and keeps 3 backups\n",
        "handler = RotatingFileHandler(\n",
        "    \"app.log\", maxBytes=1 * 1024 * 1024, backupCount=3\n",
        ")\n",
        "\n",
        "# Create a formatter and set it to the handler\n",
        "formatter = logging.Formatter('%(asctime)s - %(levelname)s - %(message)s')\n",
        "handler.setFormatter(formatter)\n",
        "\n",
        "# Add handler to the logger\n",
        "logger.addHandler(handler)\n",
        "\n",
        "# Example log messages\n",
        "logger.info(\"This is an info message.\")\n",
        "logger.error(\"This is an error message.\")\n",
        "\n"
      ],
      "metadata": {
        "colab": {
          "base_uri": "https://localhost:8080/"
        },
        "id": "AOEtwgfMYWD4",
        "outputId": "6d061e56-6625-4b02-bf0a-d611d1444f84"
      },
      "execution_count": 40,
      "outputs": [
        {
          "output_type": "stream",
          "name": "stderr",
          "text": [
            "INFO:MyLogger:This is an info message.\n",
            "ERROR:MyLogger:This is an error message.\n"
          ]
        }
      ]
    },
    {
      "cell_type": "markdown",
      "source": [
        "19. Write a program that handles both IndexError and KeyError using a try-except block."
      ],
      "metadata": {
        "id": "9eTUBPN2YumF"
      }
    },
    {
      "cell_type": "code",
      "source": [
        "my_list = [10, 20, 30]\n",
        "my_dict = {\"a\": 1, \"b\": 2}\n",
        "\n",
        "try:\n",
        "    # Access an invalid index\n",
        "    print(\"List item:\", my_list[5])\n",
        "\n",
        "    # Access a non-existent key\n",
        "    print(\"Dictionary value:\", my_dict[\"c\"])\n",
        "\n",
        "except IndexError:\n",
        "    print(\"Error: List index out of range.\")\n",
        "\n",
        "except KeyError:\n",
        "    print(\"Error: Key not found in the dictionary.\")\n"
      ],
      "metadata": {
        "colab": {
          "base_uri": "https://localhost:8080/"
        },
        "id": "pRkeXyddZAOn",
        "outputId": "e40cdbd0-2bf0-4a03-a696-eddbdca8116e"
      },
      "execution_count": 41,
      "outputs": [
        {
          "output_type": "stream",
          "name": "stdout",
          "text": [
            "Error: List index out of range.\n"
          ]
        }
      ]
    },
    {
      "cell_type": "code",
      "source": [
        "try:\n",
        "    print(\"List item:\", my_list[5])\n",
        "except IndexError:\n",
        "    print(\"Error: List index out of range.\")\n",
        "\n",
        "try:\n",
        "    print(\"Dictionary value:\", my_dict[\"c\"])\n",
        "except KeyError:\n",
        "    print(\"Error: Key not found in the dictionary.\")\n"
      ],
      "metadata": {
        "colab": {
          "base_uri": "https://localhost:8080/"
        },
        "id": "5fMrU1o_ZELO",
        "outputId": "e674fcdd-d253-425c-bd8c-24ec07890a55"
      },
      "execution_count": 42,
      "outputs": [
        {
          "output_type": "stream",
          "name": "stdout",
          "text": [
            "Error: List index out of range.\n",
            "Error: Key not found in the dictionary.\n"
          ]
        }
      ]
    },
    {
      "cell_type": "markdown",
      "source": [
        "20. How would you open a file and read its contents using a context manager in Python?"
      ],
      "metadata": {
        "id": "EsFlcNyyZF1X"
      }
    },
    {
      "cell_type": "code",
      "source": [
        "#using with statement\n",
        "with open(\"example.txt\", \"r\") as file:\n",
        "    content = file.read()\n",
        "\n",
        "print(content)\n"
      ],
      "metadata": {
        "colab": {
          "base_uri": "https://localhost:8080/"
        },
        "id": "KC55K412ZS1t",
        "outputId": "19182666-6ce8-4e6a-aaca-d349f6246dad"
      },
      "execution_count": 43,
      "outputs": [
        {
          "output_type": "stream",
          "name": "stdout",
          "text": [
            "This is a new line of text.\n",
            "\n"
          ]
        }
      ]
    },
    {
      "cell_type": "markdown",
      "source": [
        "21. Write a Python program that reads a file and prints the number of occurrences of a specific word."
      ],
      "metadata": {
        "id": "K5FT4ziRZfQv"
      }
    },
    {
      "cell_type": "code",
      "source": [
        "def count_word_in_file(filename, word):\n",
        "    try:\n",
        "        with open(filename, 'r') as file:\n",
        "            content = file.read().lower()  # Convert to lowercase for case-insensitive search\n",
        "            word = word.lower()\n",
        "\n",
        "            # Count occurrences of the word (considering word boundaries)\n",
        "            words = content.split()\n",
        "            count = words.count(word)\n",
        "\n",
        "            print(f\"The word '{word}' occurs {count} times in the file '{filename}'.\")\n",
        "\n",
        "    except FileNotFoundError:\n",
        "        print(f\"Error: The file '{filename}' does not exist.\")\n",
        "    except Exception as e:\n",
        "        print(f\"An unexpected error occurred: {e}\")\n",
        "\n",
        "# Usage\n",
        "count_word_in_file('example.txt', 'Python')\n"
      ],
      "metadata": {
        "colab": {
          "base_uri": "https://localhost:8080/"
        },
        "id": "AH4K1ngBZq7U",
        "outputId": "cfafe6d7-5175-4deb-986d-84e75a5e3661"
      },
      "execution_count": 44,
      "outputs": [
        {
          "output_type": "stream",
          "name": "stdout",
          "text": [
            "The word 'python' occurs 0 times in the file 'example.txt'.\n"
          ]
        }
      ]
    },
    {
      "cell_type": "markdown",
      "source": [
        "22. How can you check if a file is empty before attempting to read its contents?"
      ],
      "metadata": {
        "id": "mkC0V5I3ZstU"
      }
    },
    {
      "cell_type": "code",
      "source": [
        "#os.path.getsize()\n",
        "import os\n",
        "\n",
        "filename = \"example.txt\"\n",
        "\n",
        "if os.path.exists(filename) and os.path.getsize(filename) > 0:\n",
        "    with open(filename, \"r\") as file:\n",
        "        content = file.read()\n",
        "        print(\"File content:\\n\", content)\n",
        "else:\n",
        "    print(f\"The file '{filename}' is empty or does not exist.\")\n"
      ],
      "metadata": {
        "colab": {
          "base_uri": "https://localhost:8080/"
        },
        "id": "NidfauNFZxX2",
        "outputId": "efc560d4-9e07-48ef-fd1b-a2220496fd3b"
      },
      "execution_count": 45,
      "outputs": [
        {
          "output_type": "stream",
          "name": "stdout",
          "text": [
            "File content:\n",
            " This is a new line of text.\n",
            "\n"
          ]
        }
      ]
    },
    {
      "cell_type": "code",
      "source": [
        "filename = \"example.txt\"\n",
        "\n",
        "with open(filename, \"r\") as file:\n",
        "    first_char = file.read(1)\n",
        "    if not first_char:\n",
        "        print(f\"The file '{filename}' is empty.\")\n",
        "    else:\n",
        "        # Move back to start to read full content\n",
        "        file.seek(0)\n",
        "        content = file.read()\n",
        "        print(\"File content:\\n\", content)\n"
      ],
      "metadata": {
        "colab": {
          "base_uri": "https://localhost:8080/"
        },
        "id": "flB3Su7yaEW9",
        "outputId": "2969fcde-9a02-42bb-9aab-e4c266a63103"
      },
      "execution_count": 46,
      "outputs": [
        {
          "output_type": "stream",
          "name": "stdout",
          "text": [
            "File content:\n",
            " This is a new line of text.\n",
            "\n"
          ]
        }
      ]
    },
    {
      "cell_type": "markdown",
      "source": [
        "23. Write a Python program that writes to a log file when an error occurs during file handling."
      ],
      "metadata": {
        "id": "Mu88O9wYaG-f"
      }
    },
    {
      "cell_type": "code",
      "source": [
        "import logging\n",
        "\n",
        "# Configure logging to write errors to 'error.log'\n",
        "logging.basicConfig(\n",
        "    filename='error.log',\n",
        "    level=logging.ERROR,\n",
        "    format='%(asctime)s - %(levelname)s - %(message)s'\n",
        ")\n",
        "\n",
        "def read_file(filename):\n",
        "    try:\n",
        "        with open(filename, 'r') as file:\n",
        "            content = file.read()\n",
        "            print(\"File content:\\n\", content)\n",
        "    except FileNotFoundError as e:\n",
        "        print(f\"Error: The file '{filename}' was not found.\")\n",
        "        logging.error(f\"FileNotFoundError: {e}\")\n",
        "    except IOError as e:\n",
        "        print(f\"Error: An I/O error occurred while handling the file '{filename}'.\")\n",
        "        logging.error(f\"IOError: {e}\")\n",
        "    except Exception as e:\n",
        "        print(\"An unexpected error occurred.\")\n",
        "        logging.error(f\"Unexpected error: {e}\")\n",
        "\n",
        "# Usage\n",
        "read_file(\"nonexistent_file.txt\")\n"
      ],
      "metadata": {
        "colab": {
          "base_uri": "https://localhost:8080/"
        },
        "id": "6PetyfshaVRb",
        "outputId": "e3abb6c4-3d02-44ee-b635-5b2a552c3726"
      },
      "execution_count": 47,
      "outputs": [
        {
          "output_type": "stream",
          "name": "stderr",
          "text": [
            "ERROR:root:FileNotFoundError: [Errno 2] No such file or directory: 'nonexistent_file.txt'\n"
          ]
        },
        {
          "output_type": "stream",
          "name": "stdout",
          "text": [
            "Error: The file 'nonexistent_file.txt' was not found.\n"
          ]
        }
      ]
    },
    {
      "cell_type": "markdown",
      "source": [],
      "metadata": {
        "id": "Pj8dsEx-Wyvy"
      }
    },
    {
      "cell_type": "code",
      "source": [
        "#Question\n",
        "\n",
        "\"\"\"\n",
        "This is Answer\n",
        "\"\"\""
      ],
      "metadata": {
        "colab": {
          "base_uri": "https://localhost:8080/",
          "height": 35
        },
        "id": "ahT-E8TYeOey",
        "outputId": "71ed48b7-db70-4537-beb1-297fce9dd3b7"
      },
      "execution_count": 48,
      "outputs": [
        {
          "output_type": "execute_result",
          "data": {
            "text/plain": [
              "'\\nThis is Answer\\n'"
            ],
            "application/vnd.google.colaboratory.intrinsic+json": {
              "type": "string"
            }
          },
          "metadata": {},
          "execution_count": 48
        }
      ]
    },
    {
      "cell_type": "code",
      "source": [],
      "metadata": {
        "id": "DiG522BhWYxw"
      },
      "execution_count": null,
      "outputs": []
    }
  ]
}